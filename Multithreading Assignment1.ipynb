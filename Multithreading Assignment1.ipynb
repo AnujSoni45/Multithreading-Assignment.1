{
 "cells": [
  {
   "cell_type": "code",
   "execution_count": null,
   "id": "1ff10eab-6cef-4613-bcb5-c26944f838d6",
   "metadata": {},
   "outputs": [],
   "source": [
    "Q1. what is multithreading in python? hy is it used? Name the module used to handle threads in python"
   ]
  },
  {
   "cell_type": "code",
   "execution_count": null,
   "id": "0ba26208-df72-4b9c-a1c6-1e158e62963e",
   "metadata": {},
   "outputs": [],
   "source": [
    "(Answer):\n",
    "Multithreading in Python is a mechanism that allows multiple threads (smaller units of a process) to run concurrently within a single process. Each thread operates independently but shares the same memory space with other threads within the same process. Threads are used to achieve concurrent execution and can be particularly useful for tasks that are I/O-bound, such as handling multiple client requests in a server.\n",
    "The module used to handle threads in Python is:\n",
    "\n",
    "threading\n",
    "\n",
    "The threading module provides classes and functions to create, manage, and synchronize threads within Python programs."
   ]
  },
  {
   "cell_type": "code",
   "execution_count": null,
   "id": "cadf3f4b-b5c0-447c-a4c8-6900997fc116",
   "metadata": {},
   "outputs": [],
   "source": [
    "Q2. Why threading module used? rite the use of the following functions :\n",
    "( activeCount\n",
    " currentThread\n",
    " enumerate)"
   ]
  },
  {
   "cell_type": "code",
   "execution_count": null,
   "id": "7fdcaec5-2be3-45a7-9a4d-7bc235dbb8eb",
   "metadata": {},
   "outputs": [],
   "source": [
    "(Answer):The threading module in Python is used to work with threads, allowing you to create, manage, and synchronize threads within your program. It provides a high-level interface for dealing with threads, making it easier to handle concurrent tasks and parallel execution.\n",
    "\n",
    "Here are the uses of the following functions from the threading module:\n",
    "\n",
    "activeCount(): This function returns the number of Thread objects currently alive. It's often used to get an idea of how many threads are active or running in your program at a given time.\n",
    "\n",
    "currentThread(): This function returns the current Thread object corresponding to the caller's thread of control. It's useful to get a reference to the current thread so that you can access its attributes and methods.\n",
    "\n",
    "enumerate(): This function returns a list of all Thread objects currently alive. It's similar to activeCount(), but it provides a list of actual thread objects instead of just the count."
   ]
  },
  {
   "cell_type": "code",
   "execution_count": 1,
   "id": "87fb7228-f3aa-48f1-9b59-7e8185f09407",
   "metadata": {},
   "outputs": [
    {
     "name": "stdout",
     "output_type": "stream",
     "text": [
      "Active threads: 8\n",
      "Current thread: MainThread\n",
      "All threads:\n",
      "MainThread\n",
      "IOPub\n",
      "Heartbeat\n",
      "Thread-3 (_watch_pipe_fd)\n",
      "Thread-4 (_watch_pipe_fd)\n",
      "Control\n",
      "IPythonHistorySavingThread\n",
      "Thread-2\n"
     ]
    },
    {
     "name": "stderr",
     "output_type": "stream",
     "text": [
      "/tmp/ipykernel_70/3106370599.py:4: DeprecationWarning: activeCount() is deprecated, use active_count() instead\n",
      "  print(\"Active threads:\", threading.activeCount())\n",
      "/tmp/ipykernel_70/3106370599.py:7: DeprecationWarning: currentThread() is deprecated, use current_thread() instead\n",
      "  current_thread = threading.currentThread()\n"
     ]
    }
   ],
   "source": [
    "(Example):\n",
    "import threading\n",
    "\n",
    "# Get the number of active threads\n",
    "print(\"Active threads:\", threading.activeCount())\n",
    "\n",
    "# Get the current thread\n",
    "current_thread = threading.currentThread()\n",
    "print(\"Current thread:\", current_thread.name)\n",
    "\n",
    "# Enumerate and print all active threads\n",
    "threads = threading.enumerate()\n",
    "print(\"All threads:\")\n",
    "for thread in threads:\n",
    "    print(thread.name)\n"
   ]
  },
  {
   "cell_type": "code",
   "execution_count": null,
   "id": "35d6e96a-a745-4f61-9e4b-7836395e14bd",
   "metadata": {},
   "outputs": [],
   "source": [
    "3. Explain the following functions\n",
    "( run\n",
    " start\n",
    " join\n",
    "' isAlive)"
   ]
  },
  {
   "cell_type": "code",
   "execution_count": null,
   "id": "8dbde5c1-73a3-4e46-bc30-aa862e9dae95",
   "metadata": {},
   "outputs": [],
   "source": [
    "(Answer):\n",
    "run(): This is a method that you can override in a custom thread class to specify the code that the thread should execute. It's the actual entry point for the thread's execution. You define the behavior you want the thread to have in this method. When you create a custom thread class and instantiate it, calling the start() method on the instance will eventually call the run() method with the specified behavior for the thread.\n",
    "\n",
    "start(): This method is used to start the execution of a thread. When you call start() on a thread instance, it sets up the necessary internal structures, invokes the run() method (if you've overridden it), and begins the execution of the thread in a separate control flow. It's important to note that start() must be called to initiate a thread's execution. You should never call run() directly, as it will run the thread's code in the current thread's context without any actual concurrency.\n",
    "\n",
    "join(): This method blocks the calling thread until the thread it's called on finishes its execution. Essentially, it waits for the specified thread to complete before the calling thread continues executing. This is useful when you want to ensure that certain threads have finished their tasks before the main program exits or before continuing with further processing.\n",
    "\n",
    "isAlive(): This method is used to check whether a thread is currently running or has finished its execution. It returns True if the thread is active and running, and False otherwise. It's a way to determine the status of a thread's execution without having to directly interact with its internal state."
   ]
  },
  {
   "cell_type": "code",
   "execution_count": null,
   "id": "6f38cd1a-4da4-436f-9995-07632c333144",
   "metadata": {},
   "outputs": [],
   "source": [
    "4. Write a python program to create two threads. Thread one must print the list of squares and thread\n",
    "two must print the list of cubes"
   ]
  },
  {
   "cell_type": "code",
   "execution_count": 2,
   "id": "1801d08b-7008-4d98-9ab7-64e94b96af62",
   "metadata": {},
   "outputs": [
    {
     "name": "stdout",
     "output_type": "stream",
     "text": [
      "Square of 1: 1\n",
      "Square of 2: 4\n",
      "Square of 3: 9\n",
      "Square of 4: 16\n",
      "Square of 5: 25\n",
      "Cube of 1: 1\n",
      "Cube of 2: 8\n",
      "Cube of 3: 27\n",
      "Cube of 4: 64\n",
      "Cube of 5: 125\n",
      "Both threads finished\n"
     ]
    }
   ],
   "source": [
    "import threading\n",
    "\n",
    "def print_squares(numbers):\n",
    "    for num in numbers:\n",
    "        print(f\"Square of {num}: {num**2}\")\n",
    "\n",
    "def print_cubes(numbers):\n",
    "    for num in numbers:\n",
    "        print(f\"Cube of {num}: {num**3}\")\n",
    "\n",
    "# List of numbers\n",
    "numbers = [1, 2, 3, 4, 5]\n",
    "\n",
    "# Create thread instances\n",
    "square_thread = threading.Thread(target=print_squares, args=(numbers,))\n",
    "cube_thread = threading.Thread(target=print_cubes, args=(numbers,))\n",
    "\n",
    "# Start the threads\n",
    "square_thread.start()\n",
    "cube_thread.start()\n",
    "\n",
    "# Wait for both threads to finish\n",
    "square_thread.join()\n",
    "cube_thread.join()\n",
    "\n",
    "print(\"Both threads finished\")\n"
   ]
  },
  {
   "cell_type": "code",
   "execution_count": null,
   "id": "a963dd26-9641-45f6-bcd7-f12eeaad73df",
   "metadata": {},
   "outputs": [],
   "source": [
    "5. State advantages and disadvantages of multithreading."
   ]
  },
  {
   "cell_type": "code",
   "execution_count": null,
   "id": "2fadda87-b1a4-4747-905c-0193c46174e6",
   "metadata": {},
   "outputs": [],
   "source": [
    "(Answer):\n",
    "Advantages of Multithreading:\n",
    "\n",
    "Concurrency: Multithreading allows multiple tasks to run concurrently within a single process. This can lead to improved program performance and better resource utilization, especially in situations where tasks are I/O-bound.\n",
    "\n",
    "Responsiveness: Multithreading can make programs more responsive, as tasks that might block the execution of the entire program can be performed in the background while other tasks continue to run.\n",
    "\n",
    "Resource Sharing: Threads within the same process share the same memory space, which simplifies sharing data and communication between threads compared to separate processes.\n",
    "\n",
    "Efficient Use of System Resources: Threads are more lightweight than processes, as they share memory space and system resources. This allows for more efficient context switching between threads compared to processes."
   ]
  },
  {
   "cell_type": "code",
   "execution_count": null,
   "id": "7cd2bb69-e0cc-42d4-b076-7d92ca90df74",
   "metadata": {},
   "outputs": [],
   "source": [
    "Disadvantages of Multithreading:\n",
    "\n",
    "Global Interpreter Lock (GIL): In Python, the Global Interpreter Lock (GIL) can limit the true parallel execution of threads within a single process, especially in CPU-bound tasks. This means that even though you use threads, only one thread can execute Python bytecode at a time due to the GIL.\n",
    "\n",
    "Complexity: Multithreading can introduce complexity, particularly when dealing with shared resources. Proper synchronization mechanisms like locks or semaphores are needed to avoid issues like race conditions or deadlocks.\n",
    "\n",
    "Debugging: Debugging multithreaded programs can be more challenging due to the non-deterministic behavior of threads. Issues like timing-related bugs can be difficult to reproduce and diagnose.\n",
    "\n",
    "Resource Contention: If not managed properly, threads might compete for system resources, leading to contention issues that can degrade performance rather than improve it.\n",
    "\n",
    "Thread Safety: Ensuring thread safety can be complex and error-prone. It requires careful consideration and synchronization to avoid data corruption or unexpected behavior."
   ]
  },
  {
   "cell_type": "code",
   "execution_count": null,
   "id": "21fd3327-0d87-4115-ac97-6a36e37fac91",
   "metadata": {},
   "outputs": [],
   "source": [
    "6. Explain deadlocks and race conditions."
   ]
  },
  {
   "cell_type": "code",
   "execution_count": null,
   "id": "d12f472f-8643-4689-a9ce-5f10f385ad64",
   "metadata": {},
   "outputs": [],
   "source": []
  }
 ],
 "metadata": {
  "kernelspec": {
   "display_name": "Python 3 (ipykernel)",
   "language": "python",
   "name": "python3"
  },
  "language_info": {
   "codemirror_mode": {
    "name": "ipython",
    "version": 3
   },
   "file_extension": ".py",
   "mimetype": "text/x-python",
   "name": "python",
   "nbconvert_exporter": "python",
   "pygments_lexer": "ipython3",
   "version": "3.10.8"
  }
 },
 "nbformat": 4,
 "nbformat_minor": 5
}
